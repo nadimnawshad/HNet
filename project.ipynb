{
 "cells": [
  {
   "cell_type": "code",
   "execution_count": null,
   "id": "53a8a902",
   "metadata": {},
   "outputs": [],
   "source": [
    "import numpy as np\n",
    "import pandas as pd\n",
    "import matplotlib,pyplot as plt\n",
    "import os\n",
    "\n",
    "\n",
    "import keras\n",
    "\n",
    "from keras.preprocessing.image import  ImageDataGenerator, img_to_array ,load_img\n",
    "from keras.applications.vgg19 import VGG19, preprocess_imput, decode_predictions"
   ]
  },
  {
   "cell_type": "code",
   "execution_count": null,
   "id": "ca58b83a",
   "metadata": {},
   "outputs": [],
   "source": [
    "train_datagen = ImageDataGenerator(zoom_range= 0.5, shear_range= 0.3, horizontal_flip= True, preprocessing_function= preprocess_imput )\n",
    "\n",
    "val_datagen = ImageDataGenerator(preprocessing_function= preprocess_imput )"
   ]
  },
  {
   "cell_type": "code",
   "execution_count": null,
   "id": "56283455",
   "metadata": {},
   "outputs": [],
   "source": [
    "train = train_datagen.flow_from_directory(directory= \"/content/New Plant Diseases Dataset(Augmented)/New Plant Diseases Dataset(Augmented)/train\",\n",
    "                                          target_size= (256,256), batch_size=32)\n",
    "\n",
    "val = val_datagen.flow_from_directory(directory= \"/content/New Plant Diseases Dataset(Augmented)/New Plant Diseases Dataset(Augmented)/train\",\n",
    "                                        target_size= (256,256), batch_size=32)"
   ]
  },
  {
   "cell_type": "code",
   "execution_count": null,
   "id": "e209acad",
   "metadata": {},
   "outputs": [],
   "source": [
    "t_img , label = train.next()"
   ]
  },
  {
   "cell_type": "code",
   "execution_count": null,
   "id": "33b9df93",
   "metadata": {},
   "outputs": [],
   "source": [
    "def plotImage(img_arr, label):\n",
    "    \n",
    "    for im , l in zip(img_arr , label):\n",
    "        plt.figure(figsize=(5,5))\n",
    "        plt.imshow(im/255)\n",
    "        plt.show()\n",
    "        "
   ]
  },
  {
   "cell_type": "code",
   "execution_count": null,
   "id": "043277e5",
   "metadata": {},
   "outputs": [],
   "source": [
    "plotImage(t_img[:3], label[:3])"
   ]
  },
  {
   "cell_type": "code",
   "execution_count": null,
   "id": "54836c5c",
   "metadata": {},
   "outputs": [],
   "source": [
    "from keras.layers import Dense, Flatten\n",
    "from keras.models import Model\n",
    "from keras.applications,vgg19 import VGG19\n",
    "import keras"
   ]
  },
  {
   "cell_type": "code",
   "execution_count": null,
   "id": "6fe03537",
   "metadata": {},
   "outputs": [],
   "source": [
    "base_model = VGG19(input_shape=(256,256,3), include_top=False)"
   ]
  },
  {
   "cell_type": "code",
   "execution_count": null,
   "id": "d0324102",
   "metadata": {},
   "outputs": [],
   "source": [
    "for layer in base_model.layers:\n",
    "    layer.trainable = False"
   ]
  },
  {
   "cell_type": "code",
   "execution_count": null,
   "id": "6c11bade",
   "metadata": {},
   "outputs": [],
   "source": [
    "base_model.summary()"
   ]
  },
  {
   "cell_type": "code",
   "execution_count": null,
   "id": "fd33674c",
   "metadata": {},
   "outputs": [],
   "source": [
    "X = Flatten()(base_model.output)\n",
    "\n",
    "X = Dense(units= 38, activation='softmax')(x)\n",
    "\n",
    "\n",
    "#Creating our model\n",
    "model = Model(base_model.input, x)"
   ]
  },
  {
   "cell_type": "code",
   "execution_count": null,
   "id": "faf953d9",
   "metadata": {},
   "outputs": [],
   "source": [
    "model.summary()\n",
    "\n",
    "Model: \"model\""
   ]
  },
  {
   "cell_type": "code",
   "execution_count": null,
   "id": "f0dda391",
   "metadata": {},
   "outputs": [],
   "source": [
    "model.compile(optimizer= 'adam' , loss= keras.losses.catagorical_crossentrophy , metrics= ['accuracy'])"
   ]
  },
  {
   "cell_type": "code",
   "execution_count": null,
   "id": "4eb74159",
   "metadata": {},
   "outputs": [],
   "source": [
    "from keras.callbacks import ModelCheckpoint, EarlyStopping\n",
    "\n",
    "# early stopping\n",
    "es = EarlyStopping(monitor= 'val_accuracy', min_delta= 0.01, patience= 3,verbose=1)\n",
    "\n",
    "# model check point\n",
    "mc = ModelCheckpoint(filepath=\"best_model.h5\",\n",
    "                     monitor= 'val_accuracy',\n",
    "                     min_delta= 0.01,\n",
    "                     patience= 3,\n",
    "                     verbose=1 ,\n",
    "                     save_best_only= True)\n",
    "\n",
    "\n",
    "cb = [es, mc]"
   ]
  },
  {
   "cell_type": "code",
   "execution_count": null,
   "id": "12171385",
   "metadata": {},
   "outputs": [],
   "source": [
    "his = model.fit_generator(train ,\n",
    "                          steps_per_epoch= 16,\n",
    "                          epochs= 50,\n",
    "                          verbose= 1,\n",
    "                          callbacks= cb ,\n",
    "                          validations_data= val ,\n",
    "                          validation_steps= 16 )"
   ]
  },
  {
   "cell_type": "code",
   "execution_count": null,
   "id": "a7e72862",
   "metadata": {},
   "outputs": [],
   "source": [
    "h = his.history\n",
    "h.keys()"
   ]
  },
  {
   "cell_type": "code",
   "execution_count": null,
   "id": "276c3b36",
   "metadata": {},
   "outputs": [],
   "source": [
    "plt.plot(h['accuracy'])\n",
    "plt.plot(h['val_accuracy'] , c = \"red\")\n",
    "plt.title(\"acc vs v-acc\")\n",
    "plt.show()"
   ]
  },
  {
   "cell_type": "code",
   "execution_count": null,
   "id": "5b0d980e",
   "metadata": {},
   "outputs": [],
   "source": [
    "plt.plot(h['loss'])\n",
    "plt.plot(h['val_loss'] , c = \"red\")\n",
    "plt.title(\"loss vs v-loss\")\n",
    "plt.show()"
   ]
  },
  {
   "cell_type": "code",
   "execution_count": null,
   "id": "80430653",
   "metadata": {},
   "outputs": [],
   "source": [
    "# load best model\n",
    "\n",
    "from keras.models import load_model\n",
    "\n",
    "model = load_model(\"/content/best_model.h5\")"
   ]
  },
  {
   "cell_type": "code",
   "execution_count": null,
   "id": "986b43d2",
   "metadata": {},
   "outputs": [],
   "source": [
    "acc = model.evaluate_generator(val)[1]\n",
    "\n",
    "\n",
    "print(f\"The accuracy of your model is = {acc*100} %\")"
   ]
  },
  {
   "cell_type": "code",
   "execution_count": null,
   "id": "e09fe976",
   "metadata": {},
   "outputs": [],
   "source": [
    "ref = dict(zip( list(train.class_indices.values()) , list(train.class_indices.keys()) ) )"
   ]
  },
  {
   "cell_type": "code",
   "execution_count": null,
   "id": "c0f3f7a7",
   "metadata": {},
   "outputs": [],
   "source": [
    "def prediction(path):\n",
    "    \n",
    "    img = load_img(path, target_size= (256,256))\n",
    "    \n",
    "    i = img_ to_array(img)\n",
    "    \n",
    "    im = preprocess_input(i)\n",
    "    \n",
    "    img = np.expand_dims(im , axis= 0)\n",
    "    \n",
    "    pred = np.argmax(model.predict(img) )\n",
    "    \n",
    "    print(f\" the image belongs to { ref[pred] } \")"
   ]
  },
  {
   "cell_type": "code",
   "execution_count": null,
   "id": "87f6c482",
   "metadata": {},
   "outputs": [],
   "source": [
    "path = \"/content/test/test/TomatoYellowCurlVirus4.JPG\"\n",
    "\n",
    "prediction(path)"
   ]
  }
 ],
 "metadata": {
  "kernelspec": {
   "display_name": "Python 3 (ipykernel)",
   "language": "python",
   "name": "python3"
  },
  "language_info": {
   "codemirror_mode": {
    "name": "ipython",
    "version": 3
   },
   "file_extension": ".py",
   "mimetype": "text/x-python",
   "name": "python",
   "nbconvert_exporter": "python",
   "pygments_lexer": "ipython3",
   "version": "3.9.13"
  }
 },
 "nbformat": 4,
 "nbformat_minor": 5
}
