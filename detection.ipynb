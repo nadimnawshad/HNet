{
  "nbformat": 4,
  "nbformat_minor": 0,
  "metadata": {
    "colab": {
      "provenance": []
    },
    "kernelspec": {
      "name": "python3",
      "display_name": "Python 3"
    },
    "language_info": {
      "name": "python"
    }
  },
  "cells": [
    {
      "cell_type": "code",
      "execution_count": null,
      "metadata": {
        "id": "wZ9rOEGqNttL"
      },
      "outputs": [],
      "source": [
        "# load best model\n",
        "\n",
        "from keras.models import load_model\n",
        "\n",
        "model = load_model(\"best_model.h5\")\n",
        "\n",
        "disease_info = pd.read_csv('disease_info.csv' , encoding='cp1252')\n"
      ]
    },
    {
      "cell_type": "code",
      "source": [
        "def prediction(path):\n",
        "    \n",
        "    img = load_img(path, target_size= (256,256))\n",
        "    \n",
        "    i = img_to_array(img)\n",
        "    \n",
        "    im = preprocess_input(i)\n",
        "    \n",
        "    img = np.expand_dims(im , axis= 0)\n",
        "    \n",
        "    pred = np.argmax(model.predict(img) )\n",
        "    \n",
        "    title = disease_info['disease_name'][pred]\n",
        "    description =disease_info['description'][pred]\n",
        "    print(f\" the image belongs to : { title } , {description}\")"
      ],
      "metadata": {
        "id": "QhpspgxlOQ4_"
      },
      "execution_count": null,
      "outputs": []
    },
    {
      "cell_type": "code",
      "source": [
        "path = \"/test/Tomato___Early_blight/image (109).JPG\"\n",
        "\n",
        "prediction(path)"
      ],
      "metadata": {
        "id": "0NbxrrzEOUIJ"
      },
      "execution_count": null,
      "outputs": []
    }
  ]
}